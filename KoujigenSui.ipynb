{
 "cells": [
  {
   "cell_type": "markdown",
   "metadata": {},
   "source": [
    "$n$次元空間に$n$個のベクトルがあり、それがn次元角錐を作っているとする。\n"
   ]
  },
  {
   "cell_type": "markdown",
   "metadata": {},
   "source": [
    "この角錐の底面の点は\n",
    "$$\n",
    "a = \\sum_{i=1}^n \\alpha_i v_i \n",
    "$$\n",
    "ただし\n",
    "$$\n",
    "\\sum_{i=1}^n \\alpha_i = 1,\\alpha_i \\ge 0\n",
    "$$\n",
    "この点の原点からの距離を$l_a$とする。\n"
   ]
  },
  {
   "cell_type": "markdown",
   "metadata": {},
   "source": [
    "ここで、単調な関数$f$があり\n",
    "$$\n",
    "f(0) = 0\n",
    "$$\n",
    "$$\n",
    "f(\\infty) = 1\n",
    "$$\n",
    "だという。\n"
   ]
  },
  {
   "cell_type": "markdown",
   "metadata": {},
   "source": [
    "この$f$によって\n",
    "$$\n",
    "a' =f(a) a\n",
    "$$\n",
    "と変換する。\n",
    "このとき、角錐の底面が曲面$S$に変わる。\n",
    "\n",
    "この$S$の周辺と原点とを直線で結んだ立体は$n$次元単位球の内部にある。\n",
    "また、$v$方向で切り取られた部分単位球の一部である。\n",
    "\n",
    "$S$が区切る部分体積を求めたい。"
   ]
  },
  {
   "cell_type": "markdown",
   "metadata": {},
   "source": [
    "実際には、この角錐が相並び、原点を内部に持つ凸包となっており、それを関数$f$にて変換してできる閉じた立体の体積が知りたい。"
   ]
  },
  {
   "cell_type": "code",
   "execution_count": null,
   "metadata": {},
   "outputs": [],
   "source": []
  }
 ],
 "metadata": {
  "kernelspec": {
   "display_name": "Python 2",
   "language": "python",
   "name": "python2"
  },
  "language_info": {
   "codemirror_mode": {
    "name": "ipython",
    "version": 2
   },
   "file_extension": ".py",
   "mimetype": "text/x-python",
   "name": "python",
   "nbconvert_exporter": "python",
   "pygments_lexer": "ipython2",
   "version": "2.7.12"
  }
 },
 "nbformat": 4,
 "nbformat_minor": 2
}
