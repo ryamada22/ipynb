{
 "cells": [
  {
   "cell_type": "code",
   "execution_count": 1,
   "metadata": {},
   "outputs": [
    {
     "name": "stderr",
     "output_type": "stream",
     "text": [
      "Using TensorFlow backend.\n"
     ]
    }
   ],
   "source": [
    "from keras.models import Sequential\n",
    "from keras.layers import Dense, Dropout, Activation\n",
    "\n",
    "from sklearn.metrics import r2_score\n",
    "from matplotlib import pyplot\n",
    "import numpy as np\n",
    "%matplotlib inline"
   ]
  },
  {
   "cell_type": "code",
   "execution_count": 30,
   "metadata": {},
   "outputs": [
    {
     "data": {
      "image/png": "[encoded data removed]",
      "text/plain": [
       "<Figure size 432x288 with 1 Axes>"
      ]
     },
     "metadata": {},
     "output_type": "display_data"
    }
   ],
   "source": [
    "n_sample = 500\n",
    "n_sample2 = 500\n",
    "n_feature = 10\n",
    "n_dimy = 1\n",
    "x = np.random.random(n_sample * 1).reshape(n_sample,1)\n",
    "x2 = np.random.random(n_sample2 * 1).reshape(n_sample2,1)\n",
    "w = np.random.random(n_feature)\n",
    "r = np.random.random(n_feature)\n",
    "y_true = np.zeros(n_sample*n_dimy).reshape(n_sample,n_dimy)\n",
    "y_true2 = np.zeros(n_sample2*n_dimy).reshape(n_sample2,n_dimy)\n",
    "for i in np.arange(n_feature):\n",
    "    for j in np.arange(n_dimy):\n",
    "        tmpw = np.random.random(1)\n",
    "        tmpr = np.random.random(1)*3\n",
    "        y_true[:,j] += (x[:,0]+tmpr) ** tmpr * tmpw\n",
    "        y_true2[:,j] += (x2[:,0]+tmpr) ** tmpr * tmpw\n",
    "    \n",
    "    #y_true[:,0] += x[:,i] ** 1 * w[i]\n",
    "# 第１説明変数と被説明変数との散布図をプロットしてみる\n",
    "pyplot.scatter(x[:,0],y_true[:,0])\n",
    "pyplot.show()"
   ]
  },
  {
   "cell_type": "code",
   "execution_count": 31,
   "metadata": {},
   "outputs": [],
   "source": [
    "\n",
    "# create model\n",
    "n_feature2 = 20\n",
    "model = Sequential()\n",
    "model.add(Dense(units=100, activation=\"tanh\", kernel_initializer=\"uniform\", input_dim=n_feature2))\n",
    "model.add(Dropout(0.2))\n",
    "model.add(Dense(units=100, activation=\"relu\", kernel_initializer=\"uniform\"))\n",
    "model.add(Dropout(0.2))\n",
    "model.add(Dense(units=100, activation=\"relu\", kernel_initializer=\"uniform\"))\n",
    "model.add(Dropout(0.2))\n",
    "model.add(Dense(units=n_dimy, activation=\"linear\", kernel_initializer=\"uniform\"))"
   ]
  },
  {
   "cell_type": "code",
   "execution_count": 32,
   "metadata": {},
   "outputs": [],
   "source": [
    "# Compile model\n",
    "model.compile(loss='mse', optimizer='adam', metrics=['accuracy'])"
   ]
  },
  {
   "cell_type": "code",
   "execution_count": 33,
   "metadata": {},
   "outputs": [],
   "source": [
    "X1 = np.zeros(n_sample*n_feature2).reshape(n_sample,n_feature2)\n",
    "Y1 = y_true\n",
    "X2 = np.zeros(n_sample*n_feature2).reshape(n_sample,n_feature2)\n",
    "Y2 = y_true2\n",
    "\n",
    "for i in np.arange(n_feature2):\n",
    "    X1[:,i] = x[:,0]**(i+1)\n",
    "    X2[:,i] = x2[:,0]**(i+1)\n",
    "# Fit the model\n",
    "model.fit(X1, Y1, nb_epoch=1000, batch_size=10,  verbose=0)\n",
    "\n",
    "# Calculate predictions\n",
    "PredTestSet = model.predict(X1)\n",
    "PredTestSet2 = model.predict(X2)\n"
   ]
  },
  {
   "cell_type": "code",
   "execution_count": 34,
   "metadata": {},
   "outputs": [
    {
     "data": {
      "image/png": "[encoded data removed]",
      "text/plain": [
       "<Figure size 432x288 with 1 Axes>"
      ]
     },
     "metadata": {},
     "output_type": "display_data"
    }
   ],
   "source": [
    "pyplot.scatter(Y1,PredTestSet)\n",
    "pyplot.show()"
   ]
  },
  {
   "cell_type": "code",
   "execution_count": 35,
   "metadata": {},
   "outputs": [
    {
     "data": {
      "image/png": "[encoded data removed]",
      "text/plain": [
       "<Figure size 432x288 with 1 Axes>"
      ]
     },
     "metadata": {},
     "output_type": "display_data"
    }
   ],
   "source": [
    "pyplot.scatter(Y2,PredTestSet2)\n",
    "pyplot.show()"
   ]
  },
  {
   "cell_type": "code",
   "execution_count": null,
   "metadata": {},
   "outputs": [],
   "source": []
  }
 ],
 "metadata": {
  "kernelspec": {
   "display_name": "Python (tensorflow)",
   "language": "python",
   "name": "tensorflow"
  },
  "language_info": {
   "codemirror_mode": {
    "name": "ipython",
    "version": 2
   },
   "file_extension": ".py",
   "mimetype": "text/x-python",
   "name": "python",
   "nbconvert_exporter": "python",
   "pygments_lexer": "ipython2",
   "version": "2.7.14"
  }
 },
 "nbformat": 4,
 "nbformat_minor": 2
}
