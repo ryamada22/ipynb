{
 "cells": [
  {
   "cell_type": "code",
   "execution_count": 1,
   "metadata": {},
   "outputs": [],
   "source": [
    "# Install pyper (Rをpythonから使うため)"
   ]
  },
  {
   "cell_type": "code",
   "execution_count": 2,
   "metadata": {},
   "outputs": [],
   "source": [
    "#import numpy as np"
   ]
  },
  {
   "cell_type": "code",
   "execution_count": 3,
   "metadata": {},
   "outputs": [],
   "source": [
    "from pyper import *\n",
    "r = R(use_numpy=True)"
   ]
  },
  {
   "cell_type": "code",
   "execution_count": 4,
   "metadata": {},
   "outputs": [
    {
     "data": {
      "text/plain": [
       "'try({a <- 3; print(a + 5)})\\n[1] 8\\n'"
      ]
     },
     "execution_count": 4,
     "metadata": {},
     "output_type": "execute_result"
    }
   ],
   "source": [
    "outputs = r(\"a <- 3; print(a + 5)\")\n",
    "outputs"
   ]
  },
  {
   "cell_type": "code",
   "execution_count": 11,
   "metadata": {},
   "outputs": [
    {
     "data": {
      "text/plain": [
       "3"
      ]
     },
     "execution_count": 11,
     "metadata": {},
     "output_type": "execute_result"
    }
   ],
   "source": [
    "x_py =r.get('a')\n",
    "x_py"
   ]
  },
  {
   "cell_type": "code",
   "execution_count": 12,
   "metadata": {},
   "outputs": [
    {
     "data": {
      "text/plain": [
       "array([[ 0.48296985, -1.31237143],\n",
       "       [ 0.26313735,  0.17361424],\n",
       "       [-0.62325386, -1.57476065],\n",
       "       [-2.2620153 ,  1.83864163],\n",
       "       [ 1.31291217,  1.59120925],\n",
       "       [-1.72555325, -0.69653969],\n",
       "       [ 0.94822337,  1.76162395],\n",
       "       [-0.0518286 , -0.15631062],\n",
       "       [ 1.58084999,  0.64470825],\n",
       "       [ 2.0807602 , -0.07323586]])"
      ]
     },
     "execution_count": 12,
     "metadata": {},
     "output_type": "execute_result"
    }
   ],
   "source": [
    "\n",
    "r(\"x = matrix(rnorm(20),ncol=2)\")\n",
    "x_py =r.get('x')\n",
    "x_py\n"
   ]
  },
  {
   "cell_type": "code",
   "execution_count": 7,
   "metadata": {},
   "outputs": [],
   "source": [
    "x_py =r.get('x')\n",
    "x_py\n",
    "r(\"x = rnorm(1000)\")\n",
    "x_py =r.get('x')"
   ]
  },
  {
   "cell_type": "code",
   "execution_count": 8,
   "metadata": {},
   "outputs": [
    {
     "data": {
      "text/plain": [
       "'x = matrix(rnorm(210),ncol=2);x = x/apply(x^2,1,sum);obj = list();library(onion);qtn = 3+2*Hi;obj[[1]] = qtn'"
      ]
     },
     "execution_count": 8,
     "metadata": {},
     "output_type": "execute_result"
    }
   ],
   "source": [
    "rscript = \"x = matrix(rnorm(210),ncol=2);\"\n",
    "rscript += \"x = x/apply(x^2,1,sum);\"\n",
    "rscript += \"obj = list();\"\n",
    "rscript += \"library(onion);\"\n",
    "rscript += \"qtn = 3+2*Hi;\"\n",
    "rscript += \"obj[[1]] = qtn\"\n",
    "rscript\n"
   ]
  },
  {
   "cell_type": "code",
   "execution_count": 9,
   "metadata": {},
   "outputs": [
    {
     "data": {
      "text/plain": [
       "array([[3],\n",
       "       [2],\n",
       "       [0],\n",
       "       [0]])"
      ]
     },
     "execution_count": 9,
     "metadata": {},
     "output_type": "execute_result"
    }
   ],
   "source": [
    "r(\"x = \" +rscript)\n",
    "x_py =r.get('obj[[1]]')\n",
    "x_py"
   ]
  },
  {
   "cell_type": "code",
   "execution_count": null,
   "metadata": {},
   "outputs": [],
   "source": []
  },
  {
   "cell_type": "code",
   "execution_count": null,
   "metadata": {},
   "outputs": [],
   "source": []
  }
 ],
 "metadata": {
  "kernelspec": {
   "display_name": "Python (tensorflow)",
   "language": "python",
   "name": "tensorflow"
  },
  "language_info": {
   "codemirror_mode": {
    "name": "ipython",
    "version": 2
   },
   "file_extension": ".py",
   "mimetype": "text/x-python",
   "name": "python",
   "nbconvert_exporter": "python",
   "pygments_lexer": "ipython2",
   "version": "2.7.14"
  }
 },
 "nbformat": 4,
 "nbformat_minor": 2
}
